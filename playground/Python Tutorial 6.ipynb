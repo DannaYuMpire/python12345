{
 "cells": [
  {
   "cell_type": "markdown",
   "metadata": {},
   "source": [
    "Qn11. Ask the user for a number and determine whether the number is prime or not. (For those who have forgotten, a prime number is a number that has no divisors.). You can (and should!) use your answer to Exercise 4 to help you. Take this opportunity to practice using functions, described below."
   ]
  },
  {
   "cell_type": "code",
   "execution_count": null,
   "metadata": {},
   "outputs": [],
   "source": [
    "number = int(input('21'))\n",
    "a = [x for x in range(2, number) if number % x == 0] #make sure it has no divisors\n",
    "\n",
    "def is_prime(n):\n",
    "    if num > 1:\n",
    "        if len(a) == 0:\n",
    "            print('prime')\n",
    "        else:\n",
    "            print('not prime')\n",
    "    else:\n",
    "        print('not prime')\n",
    "is_prime(number)"
   ]
  },
  {
   "cell_type": "markdown",
   "metadata": {},
   "source": [
    "Qn12. Write a program that takes a list of numbers (for example, a = [5, 10, 15, 20, 25]) and makes a new list of only the first and last elements of the given list. For practice, write this code inside a function.(List end)"
   ]
  },
  {
   "cell_type": "code",
   "execution_count": null,
   "metadata": {},
   "outputs": [],
   "source": [
    "a = [5,10,15,20,25]\n",
    "def last_list_element(mylist):\n",
    "    return[mylist[0], mylist[-1]]"
   ]
  },
  {
   "cell_type": "markdown",
   "metadata": {},
   "source": [
    "Qn13. Write a program that asks the user how many Fibonnaci numbers to generate and then generates them. Take this opportunity to think about how you can use functions. Make sure to ask the user to enter the number of numbers in the sequence to generate.(Hint: The Fibonnaci seqence is a sequence of numbers where the next number in the sequence is the sum of the previous two numbers in the sequence. The sequence looks like this: 1, 1, 2, 3, 5, 8, 13, …)"
   ]
  },
  {
   "cell_type": "code",
   "execution_count": null,
   "metadata": {},
   "outputs": [],
   "source": [
    "def fibonacci(n):\n",
    "    f_list = []\n",
    "    for i in range(n):\n",
    "        if i == 0 or i == 1:\n",
    "            f_list.append(1)\n",
    "            continue\n",
    "            f_list.append(f_list[-2] + f_list[-1]) #add up equal to the acsending number. \n",
    "            return f_list\n",
    "print(fibonacci(int(input('how mant numbers?'))))"
   ]
  },
  {
   "cell_type": "markdown",
   "metadata": {},
   "source": [
    "Qn14. Write a program (function!) that takes a list and returns a new list that contains all the elements of the first list minus all the duplicates.\n",
    "\n",
    "Extras:\n",
    "\n",
    "Write two different functions to do this - one using a loop and constructing a list, and another using sets.\n",
    "Go back and do Exercise 5 using sets, and write the solution for that in a different function."
   ]
  },
  {
   "cell_type": "code",
   "execution_count": null,
   "metadata": {},
   "outputs": [],
   "source": [
    "def sets(var):\n",
    "    var = set(var)\n",
    "    return var\n",
    "a = [1,2,3,4,7,8,4,3]\n",
    "a = sets(a)\n",
    "print(a)"
   ]
  },
  {
   "cell_type": "markdown",
   "metadata": {},
   "source": [
    "Qn15. Write a program (using functions!) that asks the user for a long string containing multiple words. Print back to the user the same string, except with the words in backwards order. For example, say I type the string:\n",
    "\n",
    "  My name is Michele\n",
    "Then I would see the string:\n",
    "\n",
    "  Michele is name My\n",
    "shown back to me."
   ]
  },
  {
   "cell_type": "code",
   "execution_count": null,
   "metadata": {},
   "outputs": [],
   "source": [
    "def reverse_word():\n",
    "    mystring = input(\"my name is michele\")\n",
    "    split_mystring = mystring.split()\n",
    "    print(\"\".join(split_mystring[::-1]))\n",
    "reverse_word()\n",
    "\n",
    "a = \"My name is Michele\"\n",
    "print(reverse_word(a))"
   ]
  },
  {
   "cell_type": "markdown",
   "metadata": {},
   "source": [
    "Qn16. Write a password generator in Python. Be creative with how you generate passwords - strong passwords have a mix of lowercase letters, uppercase letters, numbers, and symbols. The passwords should be random, generating a new password every time the user asks for a new password. Include your code in a main method.\n",
    "\n",
    "Extra:\n",
    "\n",
    "Ask the user how strong they want their password to be. For weak passwords, pick a word or two from a list."
   ]
  },
  {
   "cell_type": "code",
   "execution_count": null,
   "metadata": {},
   "outputs": [],
   "source": [
    "import random\n",
    "\n",
    "characters = [\"A\", \"B\", \"C\", \"D\", \"E\", \"F\", \"G\", \"H\", \"I\", 'J', 'K', 'L', 'M', 'N', 'O', 'P', 'Q', 'R', 'S', 'T', 'U', 'V', 'W', 'X', 'Y', 'Z', 'a', 'b', 'c', 'd', 'e', 'f', 'g', 'h', 'i', 'j', 'k', 'l', 'm', 'n', 'o', 'p', 'q', 'r', 's', 't', 'u', 'v', 'w', 'x', 'y', 'z', '1', '2', '3', '4', '5', '6', '7', '8', '9', '0', '!', '@', '#', '$', '%', '&', '*', '(', ')']\n",
    "\n",
    "strength = input(\"Do you want a weak, medium, or strong, password?: \").lower()\n",
    "\n",
    "new_password = []\n",
    "\n",
    "def password(strength):\n",
    "if strength == 'weak':#First we'll define the strength\n",
    "while len(new_password) != 5:\n",
    "new_password.append(characters[random.randint(1, 70)])\n",
    "elif strength == 'medium':\n",
    "while len(new_password) != 8:\n",
    "new_password.append(characters[random.randint(1, 70)])\n",
    "elif strength == 'strong':\n",
    "while len(new_password) != 14:\n",
    "new_password.append(characters[random.randint(1, 70)])\n",
    "return new_password\n",
    "\n",
    "password(strength)\n",
    "\n",
    "new_password = \"\".join(new_password)\n",
    "\n",
    "print(new_password)"
   ]
  }
 ],
 "metadata": {
  "kernelspec": {
   "display_name": "Python 3",
   "language": "python",
   "name": "python3"
  },
  "language_info": {
   "codemirror_mode": {
    "name": "ipython",
    "version": 3
   },
   "file_extension": ".py",
   "mimetype": "text/x-python",
   "name": "python",
   "nbconvert_exporter": "python",
   "pygments_lexer": "ipython3",
   "version": "3.7.0"
  }
 },
 "nbformat": 4,
 "nbformat_minor": 2
}
